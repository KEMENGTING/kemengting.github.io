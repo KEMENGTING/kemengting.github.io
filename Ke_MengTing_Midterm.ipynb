{
 "cells": [
  {
   "cell_type": "code",
   "execution_count": null,
   "metadata": {},
   "outputs": [],
   "source": [
    "import pandas as pd\n",
    "import matplotlib.pyplot as plt\n",
    "import glob\n",
    "import os\n",
    "import datetime\n",
    "%matplotlib inline\n",
    "\n",
    "os.path.abspath(\"stock-time-series-20050101-to-20171231\") #get the path of thefolder"
   ]
  },
  {
   "cell_type": "markdown",
   "metadata": {},
   "source": [
    " # Q1 Load in all stock tickers as variables with the ticker symbol as their variable name, including the all stock csv file. "
   ]
  },
  {
   "cell_type": "markdown",
   "metadata": {},
   "source": [
    "I drop the Nah data in this case."
   ]
  },
  {
   "cell_type": "code",
   "execution_count": null,
   "metadata": {},
   "outputs": [],
   "source": [
    "path = r'/Users/kemengting/Programming for Data Science Fall (Class)/stock-time-series-20050101-to-20171231'\n",
    "LoadAllFiles = glob.glob(path + \"/*.csv\")\n",
    "df = pd.DataFrame()\n",
    "\n",
    "for file in LoadAllFiles:\n",
    "    df_temp = pd.read_csv(file)# index_col='Name'\n",
    "    df = df.append(df_temp)\n",
    "df = df.reset_index(drop=True)\n",
    "df.dropna()"
   ]
  },
  {
   "cell_type": "markdown",
   "metadata": {},
   "source": [
    "# Q2  Perform EDA for given stocks for different time periods (keep this in mind). "
   ]
  },
  {
   "cell_type": "markdown",
   "metadata": {},
   "source": [
    "### To make stock info useful, I supposed that \"Closing price\" is an indicator. In this part, I will first create a line plot showing Close price for all stocks over time. "
   ]
  },
  {
   "cell_type": "code",
   "execution_count": null,
   "metadata": {},
   "outputs": [],
   "source": [
    "# Below plot shows all stocks vary over time \n",
    "Name = df['Name'].unique()\n",
    "plt.figure(figsize=(15,9))\n",
    "for i in Name[:33]:\n",
    "    date = df[(df['Name'] == i)]['Date']\n",
    "    price = df[(df['Name'] == i)]['Close']\n",
    "    plt.plot(date, price)\n",
    "    plt.title('Overall Closing Price', fontsize=18)\n",
    "    plt.xlabel('Date', fontsize=14)\n",
    "    plt.ylabel('ClosingPrice', fontsize=14)\n",
    "    plt.legend(Name, loc='upper left')"
   ]
  },
  {
   "cell_type": "markdown",
   "metadata": {},
   "source": [
    "### Then create a line plot showing Close price for all stocks in 2017-2018"
   ]
  },
  {
   "cell_type": "code",
   "execution_count": null,
   "metadata": {},
   "outputs": [],
   "source": [
    "dfAll17 = pd.read_csv('stock-time-series-20050101-to-20171231/all_stocks_2017-01-01_to_2018-01-01.csv')\n",
    "Name = dfAll17['Name'].unique()\n",
    "plt.figure(figsize=(15,9))\n",
    "for i in Name[:33]:\n",
    "    date = dfAll17[(dfAll17['Name'] == i)]['Date']\n",
    "    price = dfAll17[(dfAll17['Name'] == i)]['Close']\n",
    "    plt.plot(date, price)\n",
    "    plt.title('2017 Closing Price', fontsize=18)\n",
    "    plt.xlabel('Date', fontsize=14)\n",
    "    plt.ylabel('ClosingPrice', fontsize=14)\n",
    "    plt.legend(Name, loc='upper left')"
   ]
  },
  {
   "cell_type": "markdown",
   "metadata": {},
   "source": [
    "### As you see, Amazon and Google both have significant growth in over time. Moreover, their stock price gowing beyonds other in 2017-2018 \n",
    "\n",
    "\n",
    "### Other aspect, I found that Amazon has a maximum difference price in a day, in this day stock market hads oscillated by about 35 dolloars per share over the course of 3 seconds"
   ]
  },
  {
   "cell_type": "code",
   "execution_count": null,
   "metadata": {},
   "outputs": [],
   "source": [
    "Amazon = pd.read_csv('stock-time-series-20050101-to-20171231/AMZN_2006-01-01_to_2018-01-01.csv')\n",
    "Amazon['Diff'] = Amazon['High'] - Amazon['Low']\n",
    "Amazon[Amazon['Diff'] == max(Amazon['Diff'])]\n",
    "#Amazon has a big diff in 2017-06-09 in amount of 85.99"
   ]
  },
  {
   "cell_type": "code",
   "execution_count": null,
   "metadata": {},
   "outputs": [],
   "source": [
    "Amazon = pd.read_csv('stock-time-series-20050101-to-20171231/AMZN_2006-01-01_to_2018-01-01.csv')\n",
    "Amazon.set_index('Date', inplace=True)\n",
    "Amazon['Diff'] = Amazon['High'] - Amazon['Low']\n",
    "Amazon['Diff'].plot.box(grid = True)"
   ]
  },
  {
   "cell_type": "markdown",
   "metadata": {},
   "source": [
    "### Next, let's look at volume for all stocks overtime"
   ]
  },
  {
   "cell_type": "code",
   "execution_count": null,
   "metadata": {},
   "outputs": [],
   "source": [
    "Name = df['Name'].unique()\n",
    "plt.figure(figsize=(15,9))\n",
    "for i in Name[:33]:\n",
    "    date = df[(df['Name'] == i)]['Date']\n",
    "    volume = df[(df['Name'] == i)]['Volume']\n",
    "    plt.plot(date, volume)\n",
    "    plt.title('Overall Volume', fontsize=18)\n",
    "    plt.xlabel('Date', fontsize=14)\n",
    "    plt.ylabel('Volume', fontsize=14)\n",
    "    plt.legend(Name, loc='upper left')"
   ]
  },
  {
   "cell_type": "code",
   "execution_count": null,
   "metadata": {},
   "outputs": [],
   "source": [
    "Name = dfAll17['Name'].unique()\n",
    "plt.figure(figsize=(15,9))\n",
    "for i in Name[:33]:\n",
    "    date = dfAll17[(dfAll17['Name'] == i)]['Date']\n",
    "    volume = dfAll17[(dfAll17['Name'] == i)]['Volume']\n",
    "    plt.plot(date, volume)\n",
    "    plt.title('2017 Volume', fontsize=18)\n",
    "    plt.xlabel('Date', fontsize=14)\n",
    "    plt.ylabel('Volume', fontsize=14)\n",
    "    plt.legend(Name, loc='upper left')"
   ]
  },
  {
   "cell_type": "code",
   "execution_count": null,
   "metadata": {},
   "outputs": [],
   "source": [
    "dfAll06 = pd.read_csv('stock-time-series-20050101-to-20171231/all_stocks_2006-01-01_to_2018-01-01.csv')\n",
    "dfAll06.groupby(['Name']).sum().sort_values(['Volume'],ascending=False)[['Volume']].head()"
   ]
  },
  {
   "cell_type": "code",
   "execution_count": null,
   "metadata": {},
   "outputs": [],
   "source": [
    "dfAll17 = pd.read_csv('stock-time-series-20050101-to-20171231/all_stocks_2017-01-01_to_2018-01-01.csv')\n",
    "dfAll17.groupby(['Name']).sum().sort_values(['Volume'],ascending=False)[['Volume']].head()"
   ]
  },
  {
   "cell_type": "markdown",
   "metadata": {},
   "source": [
    "### We found that\n",
    "\n",
    "### Top five companies with the most trading volume over time are: Apple  GE  Microsoft  Intel  Cisco\n",
    "\n",
    "### Top five companies with the most trading volume in 2017-2018 are: GE  Apple  Intel  Microsoft Cisco\n",
    "\n",
    "\n",
    "### Next, I want to know is there is any relation ship between Closing price and Return value in Amazon"
   ]
  },
  {
   "cell_type": "code",
   "execution_count": null,
   "metadata": {},
   "outputs": [],
   "source": [
    "Amazon = pd.read_csv('stock-time-series-20050101-to-20171231/AMZN_2006-01-01_to_2018-01-01.csv')\n",
    "Amazon['Return']=(Amazon['Close']-Amazon['Close'].shift(1))/Amazon['Close'].shift(1)\n",
    "Amazon.set_index('Date', inplace=True)\n",
    "Amazon[['Close','Return']].loc['2017-01-01':'2018-01-01'].plot(subplots=True, style='b', figsize=(20,10), grid=True)\n",
    "plt.show()"
   ]
  },
  {
   "cell_type": "markdown",
   "metadata": {},
   "source": [
    "### Apparently, there is strong relationship between Closing price and Return value \n",
    "\n",
    "### How about Closing price and Volume?"
   ]
  },
  {
   "cell_type": "code",
   "execution_count": null,
   "metadata": {},
   "outputs": [],
   "source": [
    "Amazon = pd.read_csv('stock-time-series-20050101-to-20171231/AMZN_2006-01-01_to_2018-01-01.csv')\n",
    "Amazon.set_index('Date', inplace=True)\n",
    "Amazon[['Close','Volume']].loc['2017-01-01':'2018-01-01'].plot(subplots=True, style='b', figsize=(20,10), grid=True)\n",
    "plt.show()"
   ]
  },
  {
   "cell_type": "markdown",
   "metadata": {},
   "source": [
    "### It seems like there is no relationship between Closing price and Volume "
   ]
  },
  {
   "cell_type": "code",
   "execution_count": null,
   "metadata": {},
   "outputs": [],
   "source": [
    "Amazon = pd.read_csv('stock-time-series-20050101-to-20171231/AMZN_2006-01-01_to_2018-01-01.csv')\n",
    "Amazon['CloseDiff']= Amazon['Close'].diff()\n",
    "Amazon.set_index('Date', inplace=True)\n",
    "Amazon[['Volume','CloseDiff']].loc['2017-01-01':'2018-01-01'].plot(subplots=True, style='b', figsize=(20,20), grid=True)\n",
    "plt.show()"
   ]
  },
  {
   "cell_type": "markdown",
   "metadata": {},
   "source": [
    "### There might be some relationship between Closing price difference and Volume."
   ]
  },
  {
   "cell_type": "markdown",
   "metadata": {},
   "source": [
    "# Q3  Perform descriptive analysis for any two stock from given dataset and compare the analysis. "
   ]
  },
  {
   "cell_type": "markdown",
   "metadata": {},
   "source": [
    "### A general rough info of Amazon and Google:\n",
    "Amazon min close price: 26.07    in 2006-08-11\n",
    "\n",
    "Amazon max close price: 1195.83  in 2017-11-27\n",
    "\n",
    "Google min close price: 128.85   in 2008-11-24\n",
    "\n",
    "Google max close price: 1085.09  in 2017-12-18\n",
    "\n",
    "2016-06-17 is the first time Amazons' stock closing price higher than Googles'\n"
   ]
  },
  {
   "cell_type": "code",
   "execution_count": null,
   "metadata": {},
   "outputs": [],
   "source": [
    "Amazon = pd.read_csv('stock-time-series-20050101-to-20171231/AMZN_2006-01-01_to_2018-01-01.csv')\n",
    "Amazon.head()"
   ]
  },
  {
   "cell_type": "code",
   "execution_count": null,
   "metadata": {},
   "outputs": [],
   "source": [
    "Amazon.describe()"
   ]
  },
  {
   "cell_type": "code",
   "execution_count": null,
   "metadata": {},
   "outputs": [],
   "source": [
    "Amazon[Amazon['Close']==26.07]"
   ]
  },
  {
   "cell_type": "code",
   "execution_count": null,
   "metadata": {},
   "outputs": [],
   "source": [
    "Amazon[Amazon['Close']==1195.83]"
   ]
  },
  {
   "cell_type": "code",
   "execution_count": null,
   "metadata": {},
   "outputs": [],
   "source": [
    "Amazon = pd.read_csv('stock-time-series-20050101-to-20171231/AMZN_2006-01-01_to_2018-01-01.csv')\n",
    "Amazon['Date'] = pd.to_datetime(Amazon['Date']) #switch Date datatype from object to datetime\n",
    "Amazon.info()\n",
    "Amazon.set_index('Date', inplace=True)\n",
    "\n",
    "plt.figure(figsize=(15,9))\n",
    "Amazon['Close'].loc['2017-01-01':'2018-01-01'].rolling(window=5).mean().plot(title='Amazon',grid=True)\n",
    "Amazon['Close'].loc['2017-01-01':'2018-01-01'].rolling(window=10).mean().plot(title='Amazon',grid=True)\n",
    "Amazon['Close'].loc['2017-01-01':'2018-01-01'].rolling(window=20).mean().plot(title='Amazon',grid=True)\n",
    "Amazon['Close'].loc['2017-01-01':'2018-01-01'].rolling(window=30).mean().plot(title='Amazon',grid=True)\n",
    "plt.legend(['5', '10', '20', '30'],\n",
    "           loc='upper left');\n",
    "plt.show()"
   ]
  },
  {
   "cell_type": "code",
   "execution_count": null,
   "metadata": {},
   "outputs": [],
   "source": [
    "Google = pd.read_csv('stock-time-series-20050101-to-20171231/GOOGL_2006-01-01_to_2018-01-01.csv')\n",
    "Google.describe()"
   ]
  },
  {
   "cell_type": "code",
   "execution_count": null,
   "metadata": {},
   "outputs": [],
   "source": [
    "Google[Google['Close']==128.85]"
   ]
  },
  {
   "cell_type": "code",
   "execution_count": null,
   "metadata": {},
   "outputs": [],
   "source": [
    "Google[Google['Close']==1085.09]"
   ]
  },
  {
   "cell_type": "code",
   "execution_count": null,
   "metadata": {},
   "outputs": [],
   "source": [
    "Google = pd.read_csv('stock-time-series-20050101-to-20171231/GOOGL_2006-01-01_to_2018-01-01.csv')\n",
    "Google['Date'] = pd.to_datetime(Google['Date']) #switch Date datatype from object to datetime\n",
    "Google.info()\n",
    "Google.set_index('Date', inplace=True)\n",
    "\n",
    "plt.figure(figsize=(15,9))\n",
    "Google['Close'].loc['2017-01-01':'2018-01-01'].rolling(window=5).mean().plot(title='Google',grid=True)\n",
    "Google['Close'].loc['2017-01-01':'2018-01-01'].rolling(window=10).mean().plot(title='Google',grid=True)\n",
    "Google['Close'].loc['2017-01-01':'2018-01-01'].rolling(window=20).mean().plot(title='Google',grid=True)\n",
    "Google['Close'].loc['2017-01-01':'2018-01-01'].rolling(window=30).mean().plot(title='Google',grid=True)\n",
    "\n",
    "plt.legend(['5', '10', '20','30'],\n",
    "           loc='upper left');"
   ]
  },
  {
   "cell_type": "markdown",
   "metadata": {},
   "source": [
    "### As you can see, both Amazon and Google have significant growth. However, I am more optimistic that the stock price of Amazon will grow more than Google. The reason is that the rolling line is more stable. The price of short average line is usually higher than long average line.\n",
    "\n",
    "\n",
    "\n",
    "### Now I am trying to observe their difference after 2017"
   ]
  },
  {
   "cell_type": "code",
   "execution_count": null,
   "metadata": {},
   "outputs": [],
   "source": [
    "dfDiff = pd.DataFrame({\"GOOGLE\": Google[\"Close\"],\n",
    "                        \"Diff\": Google[\"Close\"]- Amazon[\"Close\"],\n",
    "                      \"AMAZON\": Amazon[\"Close\"]})\n",
    "dfDiff[(dfDiff['Diff']<=0)].loc['2017-01-01':'2018-01-01'].sort_values(['Diff'],ascending=True).head()"
   ]
  },
  {
   "cell_type": "code",
   "execution_count": null,
   "metadata": {},
   "outputs": [],
   "source": [
    "#In this part I will look detail info between 2017 and 2018 to see is there any specific vary.\n",
    "Amazon = pd.read_csv('stock-time-series-20050101-to-20171231/AMZN_2006-01-01_to_2018-01-01.csv')\n",
    "Amazon.set_index('Date', inplace=True)\n",
    "Google = pd.read_csv('stock-time-series-20050101-to-20171231/GOOGL_2006-01-01_to_2018-01-01.csv')\n",
    "Google.set_index('Date', inplace=True)\n",
    "\n",
    "plt.figure(figsize=(15,9))\n",
    "Amazon['Close'].loc['2017-01-01':'2018-01-01'].plot(label='Amazon',grid=True)\n",
    "Google['Close'].loc['2017-01-01':'2018-01-01'].plot(label='Google',grid=True)\n",
    "plt.title('2017 Closing Price (AMZN/GOOGL)', fontsize=18)\n",
    "plt.xlabel('Date', fontsize=14)\n",
    "plt.ylabel('ClosingPrice', fontsize=14)\n",
    "plt.legend(['Amazon', 'Google'],\n",
    "           loc='upper left');\n",
    "plt.show()"
   ]
  },
  {
   "cell_type": "markdown",
   "metadata": {},
   "source": [
    "### The above illustration shows that their difference is getting bigger. That's correct. Beascuse each of  stock price in these day are\n",
    "Amazon stock price: 1788.61\n",
    "Google stock price: 1120.54\n",
    "### They are really more different in time.  "
   ]
  },
  {
   "cell_type": "markdown",
   "metadata": {},
   "source": [
    "# Q4  Repeat the same task stated in Q3. for five stocks.\n",
    "\n",
    "### A general rough info of Apple, Microsoft, Cisco, Intel, GE:\n",
    "\n",
    "Apple min close price: 7.24 in 2006-07-14\n",
    "\n",
    "Apple max close price: 176.42 in 2017-12-18\n",
    "\n",
    "Microsoft min close price: 15.15 in 2009-03-09\n",
    "\n",
    "Microsoft max close price: 85.85 in 2017-12-15\n",
    "\n",
    "Cisco min close price: 13.62 in 2006-08-11\n",
    "\n",
    "Cisco max close price: 38.74 in 2017-12-20\n",
    "\n",
    "Intel min close price: 12.08 in 2009-02-23\n",
    "\n",
    "Intel max close price: 47.56 in 2017-12-20\n",
    "\n",
    "GE min close price: 6.66 in 2006-08-11\n",
    "\n",
    "GE max close price: 42.12 in 2007-10-02"
   ]
  },
  {
   "cell_type": "code",
   "execution_count": null,
   "metadata": {},
   "outputs": [],
   "source": [
    "Apple = pd.read_csv('stock-time-series-20050101-to-20171231/AAPL_2006-01-01_to_2018-01-01.csv')\n",
    "Microsoft = pd.read_csv('stock-time-series-20050101-to-20171231/MSFT_2006-01-01_to_2018-01-01.csv')\n",
    "Cisco = pd.read_csv('stock-time-series-20050101-to-20171231/CSCO_2006-01-01_to_2018-01-01.csv')\n",
    "Intel = pd.read_csv('stock-time-series-20050101-to-20171231/INTC_2006-01-01_to_2018-01-01.csv')\n",
    "GE = pd.read_csv('stock-time-series-20050101-to-20171231/GE_2006-01-01_to_2018-01-01.csv')"
   ]
  },
  {
   "cell_type": "code",
   "execution_count": null,
   "metadata": {},
   "outputs": [],
   "source": [
    "Apple.describe()"
   ]
  },
  {
   "cell_type": "code",
   "execution_count": null,
   "metadata": {},
   "outputs": [],
   "source": [
    "Apple[Apple['Close']==7.24]"
   ]
  },
  {
   "cell_type": "code",
   "execution_count": null,
   "metadata": {},
   "outputs": [],
   "source": [
    "Apple[Apple['Close']==176.42]"
   ]
  },
  {
   "cell_type": "code",
   "execution_count": null,
   "metadata": {},
   "outputs": [],
   "source": [
    "Microsoft.describe()"
   ]
  },
  {
   "cell_type": "code",
   "execution_count": null,
   "metadata": {},
   "outputs": [],
   "source": [
    "Microsoft[Microsoft['Close']==15.15]"
   ]
  },
  {
   "cell_type": "code",
   "execution_count": null,
   "metadata": {},
   "outputs": [],
   "source": [
    "Microsoft[Microsoft['Close']==86.85]"
   ]
  },
  {
   "cell_type": "code",
   "execution_count": null,
   "metadata": {},
   "outputs": [],
   "source": [
    "Cisco.describe()"
   ]
  },
  {
   "cell_type": "code",
   "execution_count": null,
   "metadata": {},
   "outputs": [],
   "source": [
    "Cisco[Cisco['Close']==13.62]"
   ]
  },
  {
   "cell_type": "code",
   "execution_count": null,
   "metadata": {},
   "outputs": [],
   "source": [
    "Cisco[Cisco['Close']==38.74]"
   ]
  },
  {
   "cell_type": "code",
   "execution_count": null,
   "metadata": {},
   "outputs": [],
   "source": [
    "Intel.describe()"
   ]
  },
  {
   "cell_type": "code",
   "execution_count": null,
   "metadata": {},
   "outputs": [],
   "source": [
    "Intel[Intel['Close']==12.08]"
   ]
  },
  {
   "cell_type": "code",
   "execution_count": null,
   "metadata": {},
   "outputs": [],
   "source": [
    "Intel[Intel['Close']==47.56]"
   ]
  },
  {
   "cell_type": "code",
   "execution_count": null,
   "metadata": {},
   "outputs": [],
   "source": [
    "GE.describe()"
   ]
  },
  {
   "cell_type": "code",
   "execution_count": null,
   "metadata": {},
   "outputs": [],
   "source": [
    "GE[GE['Close']==6.66]"
   ]
  },
  {
   "cell_type": "code",
   "execution_count": null,
   "metadata": {},
   "outputs": [],
   "source": [
    "GE[GE['Close']==42.12]"
   ]
  },
  {
   "cell_type": "markdown",
   "metadata": {},
   "source": [
    "### Apple, Microsoft, Cisco, Intel all meet the highest price in the end of 2017, except GE"
   ]
  },
  {
   "cell_type": "code",
   "execution_count": null,
   "metadata": {},
   "outputs": [],
   "source": [
    "Apple = pd.read_csv('stock-time-series-20050101-to-20171231/AAPL_2006-01-01_to_2018-01-01.csv')\n",
    "Microsoft = pd.read_csv('stock-time-series-20050101-to-20171231/MSFT_2006-01-01_to_2018-01-01.csv')\n",
    "Cisco = pd.read_csv('stock-time-series-20050101-to-20171231/CSCO_2006-01-01_to_2018-01-01.csv')\n",
    "Intel = pd.read_csv('stock-time-series-20050101-to-20171231/INTC_2006-01-01_to_2018-01-01.csv')\n",
    "GE = pd.read_csv('stock-time-series-20050101-to-20171231/GE_2006-01-01_to_2018-01-01.csv')\n",
    "Apple['Date'] = pd.to_datetime(Apple['Date']) #switch Date datatype from object to datetime\n",
    "Apple.set_index('Date', inplace=True)\n",
    "Microsoft['Date'] = pd.to_datetime(Microsoft['Date']) #switch Date datatype from object to datetime\n",
    "Microsoft.set_index('Date', inplace=True)\n",
    "Cisco['Date'] = pd.to_datetime(Cisco['Date']) #switch Date datatype from object to datetime\n",
    "Cisco.set_index('Date', inplace=True)\n",
    "Intel['Date'] = pd.to_datetime(Intel['Date']) #switch Date datatype from object to datetime\n",
    "Intel.set_index('Date', inplace=True)\n",
    "GE['Date'] = pd.to_datetime(GE['Date']) #switch Date datatype from object to datetime\n",
    "GE.set_index('Date', inplace=True)\n",
    "\n",
    "plt.figure(figsize=(15,9))\n",
    "Apple['Close'].loc['2017-01-01':'2018-01-01'].plot(grid=True)\n",
    "Microsoft['Close'].loc['2017-01-01':'2018-01-01'].plot(grid=True)\n",
    "Cisco['Close'].loc['2017-01-01':'2018-01-01'].plot(grid=True)\n",
    "Intel['Close'].loc['2017-01-01':'2018-01-01'].plot(grid=True)\n",
    "GE['Close'].loc['2017-01-01':'2018-01-01'].plot(grid=True)\n",
    "plt.title('2017 Closing Price (APPL/MSFT/CSCO/INTC/GE)', fontsize=18)\n",
    "plt.xlabel('Date', fontsize=14)\n",
    "plt.ylabel('CLose', fontsize=14)\n",
    "plt.legend(['Apple', 'Microsoft', 'Cisco', 'Intel','GE'],\n",
    "           loc='upper left');\n",
    "plt.show()"
   ]
  },
  {
   "cell_type": "markdown",
   "metadata": {},
   "source": [
    "### Apple, Microsoft, Cisco, Intel stock price are growing. However, GE stock price are decreasing after 2017"
   ]
  },
  {
   "cell_type": "code",
   "execution_count": null,
   "metadata": {},
   "outputs": [],
   "source": [
    "Apple = pd.read_csv('stock-time-series-20050101-to-20171231/AAPL_2006-01-01_to_2018-01-01.csv')\n",
    "Microsoft = pd.read_csv('stock-time-series-20050101-to-20171231/MSFT_2006-01-01_to_2018-01-01.csv')\n",
    "Cisco = pd.read_csv('stock-time-series-20050101-to-20171231/CSCO_2006-01-01_to_2018-01-01.csv')\n",
    "Intel = pd.read_csv('stock-time-series-20050101-to-20171231/INTC_2006-01-01_to_2018-01-01.csv')\n",
    "GE = pd.read_csv('stock-time-series-20050101-to-20171231/GE_2006-01-01_to_2018-01-01.csv')\n",
    "Apple['Date'] = pd.to_datetime(Apple['Date']) #switch Date datatype from object to datetime\n",
    "Apple.set_index('Date', inplace=True)\n",
    "Microsoft['Date'] = pd.to_datetime(Microsoft['Date']) #switch Date datatype from object to datetime\n",
    "Microsoft.set_index('Date', inplace=True)\n",
    "Cisco['Date'] = pd.to_datetime(Cisco['Date']) #switch Date datatype from object to datetime\n",
    "Cisco.set_index('Date', inplace=True)\n",
    "Intel['Date'] = pd.to_datetime(Intel['Date']) #switch Date datatype from object to datetime\n",
    "Intel.set_index('Date', inplace=True)\n",
    "GE['Date'] = pd.to_datetime(GE['Date']) #switch Date datatype from object to datetime\n",
    "GE.set_index('Date', inplace=True)\n",
    "\n",
    "plt.figure(figsize=(15,9))\n",
    "Apple['Close'].plot(grid=True)\n",
    "Microsoft['Close'].plot(grid=True)\n",
    "Cisco['Close'].plot(grid=True)\n",
    "Intel['Close'].plot(grid=True)\n",
    "GE['Close'].plot(grid=True)\n",
    "plt.title('Overall Closing Price (APPL/MSFT/CSCO/INTC/GE)', fontsize=18)\n",
    "plt.xlabel('Date', fontsize=14)\n",
    "plt.ylabel('CLose', fontsize=14)\n",
    "plt.legend(['Apple', 'Microsoft', 'Cisco', 'Intel','GE'],\n",
    "           loc='upper left');\n",
    "plt.show()"
   ]
  },
  {
   "cell_type": "code",
   "execution_count": null,
   "metadata": {},
   "outputs": [],
   "source": []
  }
 ],
 "metadata": {
  "kernelspec": {
   "display_name": "Python 3",
   "language": "python",
   "name": "python3"
  },
  "language_info": {
   "codemirror_mode": {
    "name": "ipython",
    "version": 3
   },
   "file_extension": ".py",
   "mimetype": "text/x-python",
   "name": "python",
   "nbconvert_exporter": "python",
   "pygments_lexer": "ipython3",
   "version": "3.6.4"
  }
 },
 "nbformat": 4,
 "nbformat_minor": 2
}
